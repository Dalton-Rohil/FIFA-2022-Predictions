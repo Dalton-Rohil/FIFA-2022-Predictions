{
 "cells": [
  {
   "cell_type": "markdown",
   "id": "3e09ebda",
   "metadata": {},
   "source": [
    "# Agenda"
   ]
  },
  {
   "cell_type": "markdown",
   "id": "37581b05",
   "metadata": {},
   "source": [
    "- RESUME\n",
    "- GROUP STAGE MODELING\n",
    "  - Choosing the model\n",
    "  - XGB Boost - Tuning & Hold-out Validation\n",
    "  - Creating a pipeline for the XGB model\n",
    "- KNOCKOUT STAGE MODELING\n",
    "  - Choosing a model for the Knockout Stage\n",
    "  - Random Forest - Tuning & Hold-out Validation\n",
    "  - XGB Boost - Tuning & Hold-out Validation\n",
    "  - Creating a pipeline for the XGB Boost model"
   ]
  },
  {
   "cell_type": "code",
   "execution_count": 1,
   "id": "b1e096ef",
   "metadata": {},
   "outputs": [],
   "source": [
    "import numpy as np \n",
    "import pandas as pd\n",
    "import matplotlib.pyplot as plt\n",
    "import seaborn as sns\n",
    "import os\n"
   ]
  },
  {
   "cell_type": "code",
   "execution_count": 2,
   "id": "c796bcbc",
   "metadata": {},
   "outputs": [
    {
     "data": {
      "text/html": [
       "<div>\n",
       "<style scoped>\n",
       "    .dataframe tbody tr th:only-of-type {\n",
       "        vertical-align: middle;\n",
       "    }\n",
       "\n",
       "    .dataframe tbody tr th {\n",
       "        vertical-align: top;\n",
       "    }\n",
       "\n",
       "    .dataframe thead th {\n",
       "        text-align: right;\n",
       "    }\n",
       "</style>\n",
       "<table border=\"1\" class=\"dataframe\">\n",
       "  <thead>\n",
       "    <tr style=\"text-align: right;\">\n",
       "      <th></th>\n",
       "      <th>Team1</th>\n",
       "      <th>Team2</th>\n",
       "      <th>Team1_FIFA_RANK</th>\n",
       "      <th>Team2_FIFA_RANK</th>\n",
       "      <th>Team1_Result</th>\n",
       "      <th>Team1_Goalkeeper_Score</th>\n",
       "      <th>Team2_Goalkeeper_Score</th>\n",
       "      <th>Team1_Defense</th>\n",
       "      <th>Team1_Offense</th>\n",
       "      <th>Team1_Midfield</th>\n",
       "      <th>Team2_Defense</th>\n",
       "      <th>Team2_Offense</th>\n",
       "      <th>Team2_Midfield</th>\n",
       "    </tr>\n",
       "  </thead>\n",
       "  <tbody>\n",
       "    <tr>\n",
       "      <th>9316</th>\n",
       "      <td>Netherlands</td>\n",
       "      <td>Wales</td>\n",
       "      <td>10</td>\n",
       "      <td>18</td>\n",
       "      <td>1</td>\n",
       "      <td>81.0</td>\n",
       "      <td>74.0</td>\n",
       "      <td>85.0</td>\n",
       "      <td>83.0</td>\n",
       "      <td>84.0</td>\n",
       "      <td>75.0</td>\n",
       "      <td>73.0</td>\n",
       "      <td>78.0</td>\n",
       "    </tr>\n",
       "    <tr>\n",
       "      <th>9317</th>\n",
       "      <td>Poland</td>\n",
       "      <td>Belgium</td>\n",
       "      <td>26</td>\n",
       "      <td>2</td>\n",
       "      <td>0</td>\n",
       "      <td>87.0</td>\n",
       "      <td>89.0</td>\n",
       "      <td>75.0</td>\n",
       "      <td>85.0</td>\n",
       "      <td>76.0</td>\n",
       "      <td>81.0</td>\n",
       "      <td>86.0</td>\n",
       "      <td>86.0</td>\n",
       "    </tr>\n",
       "    <tr>\n",
       "      <th>9318</th>\n",
       "      <td>Chile</td>\n",
       "      <td>Ghana</td>\n",
       "      <td>28</td>\n",
       "      <td>60</td>\n",
       "      <td>0</td>\n",
       "      <td>79.0</td>\n",
       "      <td>74.0</td>\n",
       "      <td>76.0</td>\n",
       "      <td>77.0</td>\n",
       "      <td>78.0</td>\n",
       "      <td>76.0</td>\n",
       "      <td>76.0</td>\n",
       "      <td>78.0</td>\n",
       "    </tr>\n",
       "    <tr>\n",
       "      <th>9319</th>\n",
       "      <td>Japan</td>\n",
       "      <td>Tunisia</td>\n",
       "      <td>23</td>\n",
       "      <td>35</td>\n",
       "      <td>0</td>\n",
       "      <td>73.0</td>\n",
       "      <td>64.0</td>\n",
       "      <td>75.0</td>\n",
       "      <td>75.0</td>\n",
       "      <td>78.0</td>\n",
       "      <td>71.0</td>\n",
       "      <td>72.0</td>\n",
       "      <td>74.0</td>\n",
       "    </tr>\n",
       "    <tr>\n",
       "      <th>9320</th>\n",
       "      <td>Korea Republic</td>\n",
       "      <td>Egypt</td>\n",
       "      <td>29</td>\n",
       "      <td>32</td>\n",
       "      <td>1</td>\n",
       "      <td>75.0</td>\n",
       "      <td>70.0</td>\n",
       "      <td>73.0</td>\n",
       "      <td>80.0</td>\n",
       "      <td>74.0</td>\n",
       "      <td>70.0</td>\n",
       "      <td>79.0</td>\n",
       "      <td>71.0</td>\n",
       "    </tr>\n",
       "  </tbody>\n",
       "</table>\n",
       "</div>"
      ],
      "text/plain": [
       "               Team1    Team2  Team1_FIFA_RANK  Team2_FIFA_RANK  Team1_Result  \\\n",
       "9316     Netherlands    Wales               10               18             1   \n",
       "9317          Poland  Belgium               26                2             0   \n",
       "9318           Chile    Ghana               28               60             0   \n",
       "9319           Japan  Tunisia               23               35             0   \n",
       "9320  Korea Republic    Egypt               29               32             1   \n",
       "\n",
       "      Team1_Goalkeeper_Score  Team2_Goalkeeper_Score  Team1_Defense  \\\n",
       "9316                    81.0                    74.0           85.0   \n",
       "9317                    87.0                    89.0           75.0   \n",
       "9318                    79.0                    74.0           76.0   \n",
       "9319                    73.0                    64.0           75.0   \n",
       "9320                    75.0                    70.0           73.0   \n",
       "\n",
       "      Team1_Offense  Team1_Midfield  Team2_Defense  Team2_Offense  \\\n",
       "9316           83.0            84.0           75.0           73.0   \n",
       "9317           85.0            76.0           81.0           86.0   \n",
       "9318           77.0            78.0           76.0           76.0   \n",
       "9319           75.0            78.0           71.0           72.0   \n",
       "9320           80.0            74.0           70.0           79.0   \n",
       "\n",
       "      Team2_Midfield  \n",
       "9316            78.0  \n",
       "9317            86.0  \n",
       "9318            78.0  \n",
       "9319            74.0  \n",
       "9320            71.0  "
      ]
     },
     "execution_count": 2,
     "metadata": {},
     "output_type": "execute_result"
    }
   ],
   "source": [
    "final_df = pd.read_csv('C:/Users/40006/Desktop/FIFA Prediction Project/Data Sets/training.csv')\n",
    "final_df.tail()"
   ]
  },
  {
   "cell_type": "markdown",
   "id": "881c5f4c",
   "metadata": {},
   "source": [
    "# Groupstage modeling\n",
    "\n",
    "## Choosing a Model"
   ]
  },
  {
   "cell_type": "code",
   "execution_count": 3,
   "id": "f7220100",
   "metadata": {},
   "outputs": [],
   "source": [
    "# saving the original data frame in a flag to then train the final pipeline\n",
    "pipe_DF = final_df\n",
    "# Dummies for categorical columns\n",
    "final_df = pd.get_dummies(final_df)"
   ]
  },
  {
   "cell_type": "markdown",
   "id": "3a9a68db",
   "metadata": {},
   "source": [
    "#### Spliting the dataset into training, testing and validation."
   ]
  },
  {
   "cell_type": "code",
   "execution_count": 4,
   "id": "b517c5f5",
   "metadata": {},
   "outputs": [],
   "source": [
    "X = final_df.drop('Team1_Result',axis=1)\n",
    "y = final_df['Team1_Result']\n",
    "from sklearn.model_selection import train_test_split\n",
    "X_train, X_val, y_train, y_val = train_test_split(X, y, test_size=0.1, random_state=42)\n",
    "X_hold_test, X_test, y_hold_test, y_test = train_test_split(X_val, y_val, test_size=0.5, random_state=42)"
   ]
  },
  {
   "cell_type": "markdown",
   "id": "c0bc7bc6",
   "metadata": {},
   "source": [
    "#### Scaling"
   ]
  },
  {
   "cell_type": "code",
   "execution_count": 5,
   "id": "90c3d024",
   "metadata": {},
   "outputs": [],
   "source": [
    "from sklearn.preprocessing import StandardScaler\n",
    "scaler = StandardScaler()\n",
    "X_train = scaler.fit_transform(X_train)\n",
    "X_test = scaler.transform(X_test)\n",
    "X_hold_test = scaler.transform(X_hold_test)"
   ]
  },
  {
   "cell_type": "markdown",
   "id": "938c0eae",
   "metadata": {},
   "source": [
    "#### Defining function to display the confusion matrix quickly."
   ]
  },
  {
   "cell_type": "code",
   "execution_count": 6,
   "id": "1fccdf3a",
   "metadata": {},
   "outputs": [],
   "source": [
    "from sklearn.metrics import classification_report,ConfusionMatrixDisplay\n",
    "def metrics_display(model):\n",
    "    model.fit(X_train,y_train)\n",
    "    y_pred = model.predict(X_test)\n",
    "    print(classification_report(y_test,y_pred))\n",
    "    ConfusionMatrixDisplay.from_predictions(y_test,y_pred);"
   ]
  },
  {
   "cell_type": "markdown",
   "id": "16964b41",
   "metadata": {},
   "source": [
    "### Random Forest"
   ]
  },
  {
   "cell_type": "code",
   "execution_count": 7,
   "id": "5cace7d0",
   "metadata": {},
   "outputs": [
    {
     "name": "stdout",
     "output_type": "stream",
     "text": [
      "              precision    recall  f1-score   support\n",
      "\n",
      "           0       0.46      0.58      0.51       116\n",
      "           1       0.63      0.72      0.67       241\n",
      "           2       0.31      0.13      0.18       110\n",
      "\n",
      "    accuracy                           0.54       467\n",
      "   macro avg       0.47      0.47      0.45       467\n",
      "weighted avg       0.51      0.54      0.51       467\n",
      "\n"
     ]
    },
    {
     "data": {
      "image/png": "[encoded data removed]",
      "text/plain": [
       "<Figure size 432x288 with 2 Axes>"
      ]
     },
     "metadata": {
      "needs_background": "light"
     },
     "output_type": "display_data"
    }
   ],
   "source": [
    "from sklearn.ensemble import RandomForestClassifier\n",
    "metrics_display(RandomForestClassifier())\n"
   ]
  },
  {
   "cell_type": "markdown",
   "id": "214d134d",
   "metadata": {},
   "source": [
    "### Ada Boost Classifier"
   ]
  },
  {
   "cell_type": "code",
   "execution_count": 8,
   "id": "8adf51b0",
   "metadata": {},
   "outputs": [
    {
     "name": "stdout",
     "output_type": "stream",
     "text": [
      "              precision    recall  f1-score   support\n",
      "\n",
      "           0       0.45      0.50      0.47       116\n",
      "           1       0.62      0.86      0.72       241\n",
      "           2       0.33      0.01      0.02       110\n",
      "\n",
      "    accuracy                           0.57       467\n",
      "   macro avg       0.47      0.46      0.40       467\n",
      "weighted avg       0.51      0.57      0.49       467\n",
      "\n"
     ]
    },
    {
     "data": {
      "image/png": "[encoded data removed]",
      "text/plain": [
       "<Figure size 432x288 with 2 Axes>"
      ]
     },
     "metadata": {
      "needs_background": "light"
     },
     "output_type": "display_data"
    }
   ],
   "source": [
    "from sklearn.ensemble import AdaBoostClassifier\n",
    "metrics_display(AdaBoostClassifier())\n"
   ]
  },
  {
   "cell_type": "markdown",
   "id": "19fc1e98",
   "metadata": {},
   "source": [
    "### XGB Boost"
   ]
  },
  {
   "cell_type": "code",
   "execution_count": 9,
   "id": "9d4c34c8",
   "metadata": {},
   "outputs": [
    {
     "name": "stderr",
     "output_type": "stream",
     "text": [
      "C:\\Users\\40006\\Anaconda3\\lib\\site-packages\\xgboost\\sklearn.py:1421: UserWarning: `use_label_encoder` is deprecated in 1.7.0.\n",
      "  warnings.warn(\"`use_label_encoder` is deprecated in 1.7.0.\")\n"
     ]
    },
    {
     "name": "stdout",
     "output_type": "stream",
     "text": [
      "              precision    recall  f1-score   support\n",
      "\n",
      "           0       0.46      0.53      0.49       116\n",
      "           1       0.65      0.80      0.72       241\n",
      "           2       0.31      0.10      0.15       110\n",
      "\n",
      "    accuracy                           0.57       467\n",
      "   macro avg       0.47      0.48      0.45       467\n",
      "weighted avg       0.52      0.57      0.53       467\n",
      "\n"
     ]
    },
    {
     "data": {
      "image/png": "[encoded data removed]",
      "text/plain": [
       "<Figure size 432x288 with 2 Axes>"
      ]
     },
     "metadata": {
      "needs_background": "light"
     },
     "output_type": "display_data"
    }
   ],
   "source": [
    "from xgboost import XGBClassifier\n",
    "metrics_display(XGBClassifier(use_label_encoder=False))"
   ]
  },
  {
   "cell_type": "markdown",
   "id": "8fe4a9d5",
   "metadata": {},
   "source": [
    "### Neural Network"
   ]
  },
  {
   "cell_type": "code",
   "execution_count": 10,
   "id": "77ce3986",
   "metadata": {},
   "outputs": [
    {
     "data": {
      "text/plain": [
       "(8388, 404)"
      ]
     },
     "execution_count": 10,
     "metadata": {},
     "output_type": "execute_result"
    }
   ],
   "source": [
    "import keras\n",
    "from keras import Sequential\n",
    "from keras.layers import Dense,Dropout\n",
    "from keras import Input\n",
    "\n",
    "X_train.shape\n"
   ]
  },
  {
   "cell_type": "code",
   "execution_count": 11,
   "id": "01c13cea",
   "metadata": {},
   "outputs": [
    {
     "name": "stdout",
     "output_type": "stream",
     "text": [
      "Epoch 1/10\n",
      "210/210 [==============================] - 2s 5ms/step - loss: 0.9940 - accuracy: 0.5387 - val_loss: 0.9249 - val_accuracy: 0.5697\n",
      "Epoch 2/10\n",
      "210/210 [==============================] - 1s 4ms/step - loss: 0.8906 - accuracy: 0.5903 - val_loss: 0.9044 - val_accuracy: 0.5745\n",
      "Epoch 3/10\n",
      "210/210 [==============================] - 1s 4ms/step - loss: 0.8707 - accuracy: 0.6018 - val_loss: 0.9037 - val_accuracy: 0.5840\n",
      "Epoch 4/10\n",
      "210/210 [==============================] - 1s 4ms/step - loss: 0.8522 - accuracy: 0.6113 - val_loss: 0.9078 - val_accuracy: 0.5846\n",
      "Epoch 5/10\n",
      "210/210 [==============================] - 1s 4ms/step - loss: 0.8426 - accuracy: 0.6162 - val_loss: 0.9145 - val_accuracy: 0.5769\n",
      "Epoch 6/10\n",
      "210/210 [==============================] - 1s 5ms/step - loss: 0.8286 - accuracy: 0.6197 - val_loss: 0.9222 - val_accuracy: 0.5822\n",
      "Epoch 7/10\n",
      "210/210 [==============================] - 1s 5ms/step - loss: 0.8179 - accuracy: 0.6210 - val_loss: 0.9235 - val_accuracy: 0.5828\n",
      "Epoch 8/10\n",
      "210/210 [==============================] - 1s 5ms/step - loss: 0.8041 - accuracy: 0.6314 - val_loss: 0.9382 - val_accuracy: 0.5727\n",
      "Epoch 9/10\n",
      "210/210 [==============================] - 1s 5ms/step - loss: 0.8029 - accuracy: 0.6288 - val_loss: 0.9263 - val_accuracy: 0.5781\n",
      "Epoch 10/10\n",
      "210/210 [==============================] - 1s 5ms/step - loss: 0.7897 - accuracy: 0.6379 - val_loss: 0.9368 - val_accuracy: 0.5673\n",
      "15/15 [==============================] - 0s 2ms/step\n",
      "              precision    recall  f1-score   support\n",
      "\n",
      "           0       0.53      0.51      0.52       116\n",
      "           1       0.63      0.87      0.73       241\n",
      "           2       0.38      0.08      0.13       110\n",
      "\n",
      "    accuracy                           0.60       467\n",
      "   macro avg       0.51      0.49      0.46       467\n",
      "weighted avg       0.55      0.60      0.54       467\n",
      "\n"
     ]
    },
    {
     "data": {
      "text/plain": [
       "<sklearn.metrics._plot.confusion_matrix.ConfusionMatrixDisplay at 0x1a27b876430>"
      ]
     },
     "execution_count": 11,
     "metadata": {},
     "output_type": "execute_result"
    },
    {
     "data": {
      "image/png": "[encoded data removed]",
      "text/plain": [
       "<Figure size 432x288 with 2 Axes>"
      ]
     },
     "metadata": {
      "needs_background": "light"
     },
     "output_type": "display_data"
    }
   ],
   "source": [
    "model = Sequential()\n",
    "model.add(Input(shape=(404,)))\n",
    "model.add(Dense(300,activation='relu'))\n",
    "model.add(Dropout(0.3))\n",
    "model.add(Dense(200,activation='relu'))\n",
    "model.add(Dropout(0.3))\n",
    "model.add(Dense(100,activation='relu'))\n",
    "model.add(Dropout(0.3))\n",
    "model.add(Dense(3,activation='softmax'))\n",
    "model.compile(loss='sparse_categorical_crossentropy', optimizer='adam', metrics=['accuracy'])\n",
    "model.fit(X_train,y_train,epochs=10,validation_split=0.2)\n",
    "\n",
    "y_pred1 = model.predict(X_test)\n",
    "y_pred1 = np.argmax(y_pred1,axis=1)\n",
    "print(classification_report(y_test,y_pred1))\n",
    "ConfusionMatrixDisplay.from_predictions(y_test,y_pred1)"
   ]
  },
  {
   "cell_type": "markdown",
   "id": "a80cb80b",
   "metadata": {},
   "source": [
    "The XGBoost model performs better than the others, so I will tune its hyperparameters and evaluate the performance based on the validation dataset."
   ]
  },
  {
   "cell_type": "markdown",
   "id": "abcb8b27",
   "metadata": {},
   "source": [
    "### XGB Boost - Tuning & Hold-out Validation"
   ]
  },
  {
   "cell_type": "code",
   "execution_count": 13,
   "id": "8868858e",
   "metadata": {},
   "outputs": [],
   "source": [
    "from sklearn.model_selection import GridSearchCV\n",
    "from sklearn.metrics import accuracy_score\n",
    "\n",
    "# Make a dictionary of hyperparameter values to search\n",
    "search_space = {\n",
    "    \"n_estimators\" : [200,250,300,350,400,450,500],\n",
    "    \"max_depth\" : [3,4,5,6,7,8,9],\n",
    "    \"gamma\" : [0.001,0.01,0.1],\n",
    "    \"learning_rate\" : [0.001,0.01,0.1]\n",
    "}"
   ]
  },
  {
   "cell_type": "code",
   "execution_count": 14,
   "id": "0f7be464",
   "metadata": {},
   "outputs": [
    {
     "name": "stderr",
     "output_type": "stream",
     "text": [
      "C:\\Users\\40006\\Anaconda3\\lib\\site-packages\\xgboost\\sklearn.py:1421: UserWarning: `use_label_encoder` is deprecated in 1.7.0.\n",
      "  warnings.warn(\"`use_label_encoder` is deprecated in 1.7.0.\")\n"
     ]
    }
   ],
   "source": [
    "# make a GridSearchCV object\n",
    "GS = GridSearchCV(estimator = XGBClassifier(use_label_encoder=False),\n",
    "                  param_grid = search_space,\n",
    "                  scoring = 'accuracy',\n",
    "                  cv = 5,\n",
    "                  verbose = 4)\n"
   ]
  },
  {
   "cell_type": "markdown",
   "id": "376b78a7",
   "metadata": {},
   "source": [
    "Uncomment the following line to enable the tuning. The best result I found was: gamma = 0.01, learning_rate = 0.01, n_estimators = 300, max_depth = 4"
   ]
  },
  {
   "cell_type": "code",
   "execution_count": 19,
   "id": "b3822222",
   "metadata": {
    "scrolled": true
   },
   "outputs": [],
   "source": [
    "#GS.fit(X_train,y_train)"
   ]
  },
  {
   "cell_type": "markdown",
   "id": "f8fa21f3",
   "metadata": {},
   "source": [
    "To get only the best hyperparameter values"
   ]
  },
  {
   "cell_type": "code",
   "execution_count": 18,
   "id": "3eb6e841",
   "metadata": {},
   "outputs": [],
   "source": [
    "#print(GS.best_params_) "
   ]
  },
  {
   "cell_type": "markdown",
   "id": "23800741",
   "metadata": {},
   "source": [
    "Initially, I validate the model with its default parameters, and then I will validate it with its tuned parameters."
   ]
  },
  {
   "cell_type": "markdown",
   "id": "adb4d927",
   "metadata": {},
   "source": [
    "### Default Hyperparameters"
   ]
  },
  {
   "cell_type": "code",
   "execution_count": 20,
   "id": "e8eab4bf",
   "metadata": {},
   "outputs": [
    {
     "name": "stdout",
     "output_type": "stream",
     "text": [
      "              precision    recall  f1-score   support\n",
      "\n",
      "           0       0.54      0.58      0.56       121\n",
      "           1       0.65      0.81      0.72       240\n",
      "           2       0.26      0.09      0.13       105\n",
      "\n",
      "    accuracy                           0.59       466\n",
      "   macro avg       0.48      0.49      0.47       466\n",
      "weighted avg       0.53      0.59      0.54       466\n",
      "\n"
     ]
    },
    {
     "data": {
      "image/png": "[encoded data removed]",
      "text/plain": [
       "<Figure size 432x288 with 2 Axes>"
      ]
     },
     "metadata": {
      "needs_background": "light"
     },
     "output_type": "display_data"
    }
   ],
   "source": [
    "model = XGBClassifier()\n",
    "model.fit(X_train,y_train)\n",
    "y_pred = model.predict(X_hold_test)\n",
    "print(classification_report(y_hold_test,y_pred))\n",
    "ConfusionMatrixDisplay.from_predictions(y_hold_test,y_pred);"
   ]
  },
  {
   "cell_type": "markdown",
   "id": "ac669a4f",
   "metadata": {},
   "source": [
    "### Tuned Hyperparameters"
   ]
  },
  {
   "cell_type": "code",
   "execution_count": 21,
   "id": "d31660fb",
   "metadata": {},
   "outputs": [
    {
     "name": "stderr",
     "output_type": "stream",
     "text": [
      "C:\\Users\\40006\\Anaconda3\\lib\\site-packages\\xgboost\\sklearn.py:1421: UserWarning: `use_label_encoder` is deprecated in 1.7.0.\n",
      "  warnings.warn(\"`use_label_encoder` is deprecated in 1.7.0.\")\n"
     ]
    },
    {
     "name": "stdout",
     "output_type": "stream",
     "text": [
      "              precision    recall  f1-score   support\n",
      "\n",
      "           0       0.57      0.63      0.60       121\n",
      "           1       0.64      0.88      0.75       240\n",
      "           2       0.25      0.01      0.02       105\n",
      "\n",
      "    accuracy                           0.62       466\n",
      "   macro avg       0.49      0.51      0.45       466\n",
      "weighted avg       0.54      0.62      0.54       466\n",
      "\n"
     ]
    },
    {
     "data": {
      "image/png": "[encoded data removed]",
      "text/plain": [
       "<Figure size 432x288 with 2 Axes>"
      ]
     },
     "metadata": {
      "needs_background": "light"
     },
     "output_type": "display_data"
    }
   ],
   "source": [
    "model = XGBClassifier(use_label_encoder = False, gamma = 0.01, learning_rate = 0.01, n_estimators = 300, max_depth = 4)\n",
    "model.fit(X_train,y_train)\n",
    "y_pred = model.predict(X_hold_test)\n",
    "print(classification_report(y_hold_test,y_pred))\n",
    "ConfusionMatrixDisplay.from_predictions(y_hold_test,y_pred);"
   ]
  },
  {
   "cell_type": "markdown",
   "id": "b24f2242",
   "metadata": {},
   "source": [
    "The model improves a bit, so I will create a pipe to use the model later easily."
   ]
  },
  {
   "cell_type": "markdown",
   "id": "e9606b43",
   "metadata": {},
   "source": [
    "### Creating a pipeline for the XGB model"
   ]
  },
  {
   "cell_type": "code",
   "execution_count": 23,
   "id": "23058335",
   "metadata": {},
   "outputs": [
    {
     "name": "stderr",
     "output_type": "stream",
     "text": [
      "C:\\Users\\40006\\Anaconda3\\lib\\site-packages\\xgboost\\sklearn.py:1421: UserWarning: `use_label_encoder` is deprecated in 1.7.0.\n",
      "  warnings.warn(\"`use_label_encoder` is deprecated in 1.7.0.\")\n"
     ]
    },
    {
     "data": {
      "text/plain": [
       "Pipeline(steps=[('columntransformer',\n",
       "                 ColumnTransformer(remainder='passthrough',\n",
       "                                   transformers=[('onehotencoder',\n",
       "                                                  OneHotEncoder(),\n",
       "                                                  ['Team1', 'Team2'])])),\n",
       "                ('standardscaler', StandardScaler(with_mean=False)),\n",
       "                ('xgbclassifier',\n",
       "                 XGBClassifier(base_score=0.5, booster='gbtree', callbacks=None,\n",
       "                               colsample_bylevel=1, colsample_bynode=1,\n",
       "                               colsample_bytree=1, early_stopping_...\n",
       "                               feature_types=None, gamma=0.01, gpu_id=-1,\n",
       "                               grow_policy='depthwise', importance_type=None,\n",
       "                               interaction_constraints='', learning_rate=0.01,\n",
       "                               max_bin=256, max_cat_threshold=64,\n",
       "                               max_cat_to_onehot=4, max_delta_step=0,\n",
       "                               max_depth=4, max_leaves=0, min_child_weight=1,\n",
       "                               missing=nan, monotone_constraints='()',\n",
       "                               n_estimators=300, n_jobs=0, num_parallel_tree=1,\n",
       "                               objective='multi:softprob', predictor='auto', ...))])"
      ]
     },
     "execution_count": 23,
     "metadata": {},
     "output_type": "execute_result"
    }
   ],
   "source": [
    "from sklearn.preprocessing import OneHotEncoder\n",
    "from sklearn.compose import make_column_transformer\n",
    "column_trans = make_column_transformer(\n",
    "    (OneHotEncoder(),['Team1', 'Team2']),remainder='passthrough')\n",
    "\n",
    "pipe_X = pipe_DF.drop('Team1_Result',axis=1)\n",
    "pipe_y = pipe_DF['Team1_Result']\n",
    "\n",
    "from sklearn.pipeline import make_pipeline\n",
    "pipe_League = make_pipeline(column_trans,StandardScaler(with_mean=False),XGBClassifier(use_label_encoder=False, gamma= 0.01, learning_rate= 0.01, n_estimators= 300, max_depth= 4))\n",
    "pipe_League.fit(pipe_X,pipe_y)"
   ]
  },
  {
   "cell_type": "code",
   "execution_count": 25,
   "id": "b2353cf5",
   "metadata": {},
   "outputs": [
    {
     "data": {
      "text/plain": [
       "['C:/Users/40006/Desktop/FIFA Prediction Project/models/groups_stage_prediction.pkl']"
      ]
     },
     "execution_count": 25,
     "metadata": {},
     "output_type": "execute_result"
    }
   ],
   "source": [
    "import joblib\n",
    "joblib.dump(pipe_League,\"C:/Users/40006/Desktop/FIFA Prediction Project/models/groups_stage_prediction.pkl\")"
   ]
  },
  {
   "cell_type": "markdown",
   "id": "fc6d84f3",
   "metadata": {},
   "source": [
    "# KNOCKOUT STAGE MODELING"
   ]
  },
  {
   "cell_type": "markdown",
   "id": "76ba80ad",
   "metadata": {},
   "source": [
    "### Choosing the model \n",
    "\n",
    "Removing Draw status."
   ]
  },
  {
   "cell_type": "code",
   "execution_count": 27,
   "id": "fef7b58d",
   "metadata": {},
   "outputs": [],
   "source": [
    "knock_df = pipe_DF[pipe_DF['Team1_Result'] != 2]"
   ]
  },
  {
   "cell_type": "code",
   "execution_count": 28,
   "id": "f3da3271",
   "metadata": {},
   "outputs": [],
   "source": [
    "pipe_knock_df = knock_df\n",
    "knock_df = pd.get_dummies(knock_df)\n",
    "X = knock_df.drop('Team1_Result',axis=1)\n",
    "y = knock_df['Team1_Result']\n",
    "\n",
    "X_train, X_val, y_train, y_val = train_test_split(X, y, test_size=0.2, random_state=42)\n",
    "X_hold_test, X_test, y_hold_test, y_test = train_test_split(X_val, y_val, test_size=0.5, random_state=42)"
   ]
  },
  {
   "cell_type": "markdown",
   "id": "e3678bd6",
   "metadata": {},
   "source": [
    "### Ada Boost Classifier"
   ]
  },
  {
   "cell_type": "code",
   "execution_count": 29,
   "id": "4f835faa",
   "metadata": {},
   "outputs": [
    {
     "name": "stdout",
     "output_type": "stream",
     "text": [
      "              precision    recall  f1-score   support\n",
      "\n",
      "           0       0.69      0.61      0.65       243\n",
      "           1       0.81      0.86      0.84       479\n",
      "\n",
      "    accuracy                           0.78       722\n",
      "   macro avg       0.75      0.74      0.74       722\n",
      "weighted avg       0.77      0.78      0.77       722\n",
      "\n"
     ]
    },
    {
     "data": {
      "image/png": "[encoded data removed]",
      "text/plain": [
       "<Figure size 432x288 with 2 Axes>"
      ]
     },
     "metadata": {
      "needs_background": "light"
     },
     "output_type": "display_data"
    }
   ],
   "source": [
    "metrics_display(AdaBoostClassifier())"
   ]
  },
  {
   "cell_type": "markdown",
   "id": "37d772ca",
   "metadata": {},
   "source": [
    "### Random forest"
   ]
  },
  {
   "cell_type": "code",
   "execution_count": 30,
   "id": "2b41b233",
   "metadata": {},
   "outputs": [
    {
     "name": "stdout",
     "output_type": "stream",
     "text": [
      "              precision    recall  f1-score   support\n",
      "\n",
      "           0       0.66      0.65      0.65       243\n",
      "           1       0.82      0.83      0.83       479\n",
      "\n",
      "    accuracy                           0.77       722\n",
      "   macro avg       0.74      0.74      0.74       722\n",
      "weighted avg       0.77      0.77      0.77       722\n",
      "\n"
     ]
    },
    {
     "data": {
      "image/png": "[encoded data removed]",
      "text/plain": [
       "<Figure size 432x288 with 2 Axes>"
      ]
     },
     "metadata": {
      "needs_background": "light"
     },
     "output_type": "display_data"
    }
   ],
   "source": [
    "metrics_display(RandomForestClassifier())"
   ]
  },
  {
   "cell_type": "markdown",
   "id": "82fa2873",
   "metadata": {},
   "source": [
    "### XGB Boost"
   ]
  },
  {
   "cell_type": "code",
   "execution_count": 31,
   "id": "c6a110d9",
   "metadata": {},
   "outputs": [
    {
     "name": "stderr",
     "output_type": "stream",
     "text": [
      "C:\\Users\\40006\\Anaconda3\\lib\\site-packages\\xgboost\\sklearn.py:1421: UserWarning: `use_label_encoder` is deprecated in 1.7.0.\n",
      "  warnings.warn(\"`use_label_encoder` is deprecated in 1.7.0.\")\n"
     ]
    },
    {
     "name": "stdout",
     "output_type": "stream",
     "text": [
      "              precision    recall  f1-score   support\n",
      "\n",
      "           0       0.67      0.65      0.66       243\n",
      "           1       0.82      0.84      0.83       479\n",
      "\n",
      "    accuracy                           0.77       722\n",
      "   macro avg       0.75      0.74      0.74       722\n",
      "weighted avg       0.77      0.77      0.77       722\n",
      "\n"
     ]
    },
    {
     "data": {
      "image/png": "[encoded data removed]",
      "text/plain": [
       "<Figure size 432x288 with 2 Axes>"
      ]
     },
     "metadata": {
      "needs_background": "light"
     },
     "output_type": "display_data"
    }
   ],
   "source": [
    "metrics_display(XGBClassifier(use_label_encoder=False))"
   ]
  },
  {
   "cell_type": "markdown",
   "id": "e03767c8",
   "metadata": {},
   "source": [
    "### Neural Network"
   ]
  },
  {
   "cell_type": "code",
   "execution_count": 32,
   "id": "3a92e3ad",
   "metadata": {},
   "outputs": [
    {
     "data": {
      "text/plain": [
       "(5772, 399)"
      ]
     },
     "execution_count": 32,
     "metadata": {},
     "output_type": "execute_result"
    }
   ],
   "source": [
    "X_train.shape"
   ]
  },
  {
   "cell_type": "code",
   "execution_count": 33,
   "id": "a2e5981b",
   "metadata": {},
   "outputs": [
    {
     "name": "stdout",
     "output_type": "stream",
     "text": [
      "Epoch 1/10\n",
      "145/145 [==============================] - 1s 5ms/step - loss: 1.2791 - accuracy: 0.6792 - val_loss: 0.5686 - val_accuracy: 0.7463\n",
      "Epoch 2/10\n",
      "145/145 [==============================] - 1s 4ms/step - loss: 0.5720 - accuracy: 0.7145 - val_loss: 0.5416 - val_accuracy: 0.7801\n",
      "Epoch 3/10\n",
      "145/145 [==============================] - 1s 4ms/step - loss: 0.5329 - accuracy: 0.7384 - val_loss: 0.5299 - val_accuracy: 0.7896\n",
      "Epoch 4/10\n",
      "145/145 [==============================] - 1s 4ms/step - loss: 0.5182 - accuracy: 0.7451 - val_loss: 0.5012 - val_accuracy: 0.7749\n",
      "Epoch 5/10\n",
      "145/145 [==============================] - 1s 5ms/step - loss: 0.5126 - accuracy: 0.7507 - val_loss: 0.4715 - val_accuracy: 0.7896\n",
      "Epoch 6/10\n",
      "145/145 [==============================] - 1s 5ms/step - loss: 0.5032 - accuracy: 0.7566 - val_loss: 0.4698 - val_accuracy: 0.7887\n",
      "Epoch 7/10\n",
      "145/145 [==============================] - 1s 5ms/step - loss: 0.4999 - accuracy: 0.7555 - val_loss: 0.4710 - val_accuracy: 0.7758\n",
      "Epoch 8/10\n",
      "145/145 [==============================] - 1s 5ms/step - loss: 0.5022 - accuracy: 0.7620 - val_loss: 0.4718 - val_accuracy: 0.7939\n",
      "Epoch 9/10\n",
      "145/145 [==============================] - 1s 5ms/step - loss: 0.4951 - accuracy: 0.7498 - val_loss: 0.4869 - val_accuracy: 0.7835\n",
      "Epoch 10/10\n",
      "145/145 [==============================] - 1s 4ms/step - loss: 0.4998 - accuracy: 0.7557 - val_loss: 0.4869 - val_accuracy: 0.7610\n",
      "23/23 [==============================] - 0s 2ms/step\n",
      "              precision    recall  f1-score   support\n",
      "\n",
      "           0       0.59      0.77      0.67       243\n",
      "           1       0.86      0.72      0.79       479\n",
      "\n",
      "    accuracy                           0.74       722\n",
      "   macro avg       0.72      0.75      0.73       722\n",
      "weighted avg       0.77      0.74      0.75       722\n",
      "\n"
     ]
    },
    {
     "data": {
      "text/plain": [
       "<sklearn.metrics._plot.confusion_matrix.ConfusionMatrixDisplay at 0x1a20e388880>"
      ]
     },
     "execution_count": 33,
     "metadata": {},
     "output_type": "execute_result"
    },
    {
     "data": {
      "image/png": "[encoded data removed]",
      "text/plain": [
       "<Figure size 432x288 with 2 Axes>"
      ]
     },
     "metadata": {
      "needs_background": "light"
     },
     "output_type": "display_data"
    }
   ],
   "source": [
    "\n",
    "model = Sequential()\n",
    "model.add(Input(shape=(399,)))\n",
    "model.add(Dense(300,activation='relu'))\n",
    "model.add(Dropout(0.3))\n",
    "model.add(Dense(200,activation='relu'))\n",
    "model.add(Dropout(0.3))\n",
    "model.add(Dense(100,activation='relu'))\n",
    "model.add(Dropout(0.3))\n",
    "model.add(Dense(2,activation='softmax'))\n",
    "model.compile(loss='sparse_categorical_crossentropy', optimizer='adam', metrics=['accuracy'])\n",
    "model.fit(X_train,y_train,epochs=10,validation_split=0.2)\n",
    "\n",
    "y_pred1 = model.predict(X_test)\n",
    "y_pred1 = np.argmax(y_pred1,axis=1)\n",
    "print(classification_report(y_test,y_pred1))\n",
    "ConfusionMatrixDisplay.from_predictions(y_test,y_pred1)"
   ]
  },
  {
   "cell_type": "markdown",
   "id": "73e14404",
   "metadata": {},
   "source": [
    "All models have very similar performance. Therefore I will tune the Random Forest model and the XGB Boost."
   ]
  },
  {
   "cell_type": "markdown",
   "id": "b868b2d4",
   "metadata": {},
   "source": [
    "### Random Forest - Tuning & Hold-out Validation"
   ]
  },
  {
   "cell_type": "code",
   "execution_count": 34,
   "id": "c9bef1f1",
   "metadata": {},
   "outputs": [],
   "source": [
    "search_space = {\n",
    "    \"max_depth\" : [11,12,13,14,15,16],\n",
    "    \"max_leaf_nodes\" : [170,180,190,200,210,220,230],\n",
    "    \"min_samples_leaf\" : [3,4,5,6,7,8],\n",
    "    \"n_estimators\" : [310,320,330,340,350]\n",
    "}\n"
   ]
  },
  {
   "cell_type": "code",
   "execution_count": 35,
   "id": "e59dcd1a",
   "metadata": {},
   "outputs": [],
   "source": [
    "GS = GridSearchCV(estimator = RandomForestClassifier(),\n",
    "                  param_grid = search_space,\n",
    "                  scoring = 'accuracy',\n",
    "                  cv = 5,\n",
    "                  verbose = 4)"
   ]
  },
  {
   "cell_type": "markdown",
   "id": "c1aadf7b",
   "metadata": {},
   "source": [
    "Uncomment the following lines to enable the tuning. The best result I found was: max_depth = 16, n_estimators = 320, max_leaf_nodes = 190, min_samples_leaf = 5"
   ]
  },
  {
   "cell_type": "code",
   "execution_count": 36,
   "id": "f76db458",
   "metadata": {},
   "outputs": [],
   "source": [
    "#GS.fit(X_train,y_train)\n"
   ]
  },
  {
   "cell_type": "code",
   "execution_count": 37,
   "id": "3882c13b",
   "metadata": {},
   "outputs": [],
   "source": [
    "#print(GS.best_params_)\n"
   ]
  },
  {
   "cell_type": "markdown",
   "id": "d5061a5c",
   "metadata": {},
   "source": [
    "### Default Hyperparameters"
   ]
  },
  {
   "cell_type": "code",
   "execution_count": 38,
   "id": "8ba98237",
   "metadata": {},
   "outputs": [
    {
     "name": "stdout",
     "output_type": "stream",
     "text": [
      "              precision    recall  f1-score   support\n",
      "\n",
      "           0       0.70      0.67      0.68       288\n",
      "           1       0.78      0.81      0.79       433\n",
      "\n",
      "    accuracy                           0.75       721\n",
      "   macro avg       0.74      0.74      0.74       721\n",
      "weighted avg       0.75      0.75      0.75       721\n",
      "\n"
     ]
    },
    {
     "data": {
      "image/png": "[encoded data removed]",
      "text/plain": [
       "<Figure size 432x288 with 2 Axes>"
      ]
     },
     "metadata": {
      "needs_background": "light"
     },
     "output_type": "display_data"
    }
   ],
   "source": [
    "model = RandomForestClassifier()\n",
    "model.fit(X_train,y_train)\n",
    "y_pred = model.predict(X_hold_test)\n",
    "print(classification_report(y_hold_test,y_pred))\n",
    "ConfusionMatrixDisplay.from_predictions(y_hold_test,y_pred);"
   ]
  },
  {
   "cell_type": "markdown",
   "id": "8bfc804e",
   "metadata": {},
   "source": [
    "### Tuned Hyperparameters"
   ]
  },
  {
   "cell_type": "code",
   "execution_count": 39,
   "id": "a2833211",
   "metadata": {},
   "outputs": [
    {
     "name": "stdout",
     "output_type": "stream",
     "text": [
      "              precision    recall  f1-score   support\n",
      "\n",
      "           0       0.75      0.62      0.68       288\n",
      "           1       0.77      0.86      0.82       433\n",
      "\n",
      "    accuracy                           0.77       721\n",
      "   macro avg       0.76      0.74      0.75       721\n",
      "weighted avg       0.76      0.77      0.76       721\n",
      "\n"
     ]
    },
    {
     "data": {
      "image/png": "[encoded data removed]",
      "text/plain": [
       "<Figure size 432x288 with 2 Axes>"
      ]
     },
     "metadata": {
      "needs_background": "light"
     },
     "output_type": "display_data"
    }
   ],
   "source": [
    "model = RandomForestClassifier(max_depth= 16, n_estimators=320, max_leaf_nodes= 190, min_samples_leaf= 5)\n",
    "model.fit(X_train,y_train)\n",
    "y_pred = model.predict(X_hold_test)\n",
    "print(classification_report(y_hold_test,y_pred))\n",
    "ConfusionMatrixDisplay.from_predictions(y_hold_test,y_pred);"
   ]
  },
  {
   "cell_type": "markdown",
   "id": "fd5c9329",
   "metadata": {},
   "source": [
    "The Random Forest greatly improves performance with the tuned hyperparameters; let's see the XGB Boost model."
   ]
  },
  {
   "cell_type": "markdown",
   "id": "c083dbb3",
   "metadata": {},
   "source": [
    "### XGB Boost - Tuning & Hold-out Validation"
   ]
  },
  {
   "cell_type": "code",
   "execution_count": 40,
   "id": "1fdfe646",
   "metadata": {},
   "outputs": [],
   "source": [
    "search_space = {\n",
    "    \"n_estimators\" : [300,350,400,450,500,550,600],\n",
    "    \"max_depth\" : [3,4,5,6,7,8,9],\n",
    "    \"gamma\" : [0.001,0.01,0.1],\n",
    "    \"learning_rate\" : [0.001,0.01]\n",
    "}"
   ]
  },
  {
   "cell_type": "code",
   "execution_count": 41,
   "id": "7e090afa",
   "metadata": {},
   "outputs": [
    {
     "name": "stderr",
     "output_type": "stream",
     "text": [
      "C:\\Users\\40006\\Anaconda3\\lib\\site-packages\\xgboost\\sklearn.py:1421: UserWarning: `use_label_encoder` is deprecated in 1.7.0.\n",
      "  warnings.warn(\"`use_label_encoder` is deprecated in 1.7.0.\")\n"
     ]
    }
   ],
   "source": [
    "GS = GridSearchCV(estimator = XGBClassifier(use_label_encoder=False),\n",
    "                  param_grid = search_space,\n",
    "                  scoring = 'accuracy',\n",
    "                  cv = 5,\n",
    "                  verbose = 4)"
   ]
  },
  {
   "cell_type": "markdown",
   "id": "d45eb9b1",
   "metadata": {},
   "source": [
    "Uncomment the following lines to enable the tuning. The best result I found was: gamma = 0.01, learning_rate = 0.01, max_depth = 5, n_estimators = 500"
   ]
  },
  {
   "cell_type": "code",
   "execution_count": 44,
   "id": "0584f969",
   "metadata": {},
   "outputs": [],
   "source": [
    "#GS.fit(X_train,y_train)"
   ]
  },
  {
   "cell_type": "code",
   "execution_count": 43,
   "id": "2e8a391f",
   "metadata": {},
   "outputs": [],
   "source": [
    "#print(GS.best_params_) # to get only the best hyperparameter values that we searched for"
   ]
  },
  {
   "cell_type": "markdown",
   "id": "2fbe39d5",
   "metadata": {},
   "source": [
    "### Default Hyperparameters"
   ]
  },
  {
   "cell_type": "code",
   "execution_count": 45,
   "id": "1ec3ec17",
   "metadata": {},
   "outputs": [
    {
     "name": "stdout",
     "output_type": "stream",
     "text": [
      "              precision    recall  f1-score   support\n",
      "\n",
      "           0       0.70      0.64      0.67       288\n",
      "           1       0.77      0.82      0.80       433\n",
      "\n",
      "    accuracy                           0.75       721\n",
      "   macro avg       0.74      0.73      0.73       721\n",
      "weighted avg       0.75      0.75      0.75       721\n",
      "\n"
     ]
    },
    {
     "data": {
      "image/png": "[encoded data removed]",
      "text/plain": [
       "<Figure size 432x288 with 2 Axes>"
      ]
     },
     "metadata": {
      "needs_background": "light"
     },
     "output_type": "display_data"
    }
   ],
   "source": [
    "model = XGBClassifier()\n",
    "model.fit(X_train,y_train)\n",
    "y_pred = model.predict(X_hold_test)\n",
    "print(classification_report(y_hold_test,y_pred))\n",
    "ConfusionMatrixDisplay.from_predictions(y_hold_test,y_pred);"
   ]
  },
  {
   "cell_type": "markdown",
   "id": "62520665",
   "metadata": {},
   "source": [
    "### Tuned Hyperparameters"
   ]
  },
  {
   "cell_type": "code",
   "execution_count": 46,
   "id": "c5917ab0",
   "metadata": {},
   "outputs": [
    {
     "name": "stdout",
     "output_type": "stream",
     "text": [
      "              precision    recall  f1-score   support\n",
      "\n",
      "           0       0.74      0.64      0.69       288\n",
      "           1       0.78      0.85      0.81       433\n",
      "\n",
      "    accuracy                           0.77       721\n",
      "   macro avg       0.76      0.75      0.75       721\n",
      "weighted avg       0.76      0.77      0.76       721\n",
      "\n"
     ]
    },
    {
     "data": {
      "image/png": "[encoded data removed]",
      "text/plain": [
       "<Figure size 432x288 with 2 Axes>"
      ]
     },
     "metadata": {
      "needs_background": "light"
     },
     "output_type": "display_data"
    }
   ],
   "source": [
    "model = XGBClassifier(gamma=0.01,learning_rate=0.01, max_depth=5, n_estimators=500)\n",
    "model.fit(X_train,y_train)\n",
    "y_pred = model.predict(X_hold_test)\n",
    "print(classification_report(y_hold_test,y_pred))\n",
    "ConfusionMatrixDisplay.from_predictions(y_hold_test,y_pred);"
   ]
  },
  {
   "cell_type": "markdown",
   "id": "eb2c3081",
   "metadata": {},
   "source": [
    "The model does not improve notably. However, it does improve compared to the Random Forest."
   ]
  },
  {
   "cell_type": "markdown",
   "id": "8ad5dd49",
   "metadata": {},
   "source": [
    "### Creating a pipeline for the XGB Boost model"
   ]
  },
  {
   "cell_type": "code",
   "execution_count": 47,
   "id": "10597e9e",
   "metadata": {},
   "outputs": [
    {
     "data": {
      "text/plain": [
       "Pipeline(steps=[('columntransformer',\n",
       "                 ColumnTransformer(remainder='passthrough',\n",
       "                                   transformers=[('onehotencoder',\n",
       "                                                  OneHotEncoder(),\n",
       "                                                  ['Team1', 'Team2'])])),\n",
       "                ('standardscaler', StandardScaler(with_mean=False)),\n",
       "                ('xgbclassifier',\n",
       "                 XGBClassifier(base_score=0.5, booster='gbtree', callbacks=None,\n",
       "                               colsample_bylevel=1, colsample_bynode=1,\n",
       "                               colsample_bytree=1, early_stopping_...\n",
       "                               feature_types=None, gamma=0.01, gpu_id=-1,\n",
       "                               grow_policy='depthwise', importance_type=None,\n",
       "                               interaction_constraints='', learning_rate=0.01,\n",
       "                               max_bin=256, max_cat_threshold=64,\n",
       "                               max_cat_to_onehot=4, max_delta_step=0,\n",
       "                               max_depth=5, max_leaves=0, min_child_weight=1,\n",
       "                               missing=nan, monotone_constraints='()',\n",
       "                               n_estimators=500, n_jobs=0, num_parallel_tree=1,\n",
       "                               predictor='auto', random_state=0, ...))])"
      ]
     },
     "execution_count": 47,
     "metadata": {},
     "output_type": "execute_result"
    }
   ],
   "source": [
    "pipe_X = pipe_knock_df.drop('Team1_Result',axis=1)\n",
    "pipe_y = pipe_knock_df['Team1_Result']\n",
    "pipe_knock = make_pipeline(column_trans,StandardScaler(with_mean=False),XGBClassifier(gamma=0.01,learning_rate=0.01, max_depth=5, n_estimators=500))\n",
    "pipe_knock.fit(pipe_X,pipe_y)"
   ]
  },
  {
   "cell_type": "code",
   "execution_count": 48,
   "id": "0b9fa551",
   "metadata": {},
   "outputs": [
    {
     "data": {
      "text/plain": [
       "['C:/Users/40006/Desktop/FIFA Prediction Project/models/knockout_stage_prediction.pkl']"
      ]
     },
     "execution_count": 48,
     "metadata": {},
     "output_type": "execute_result"
    }
   ],
   "source": [
    "joblib.dump(pipe_knock,\"C:/Users/40006/Desktop/FIFA Prediction Project/models/knockout_stage_prediction.pkl\")"
   ]
  },
  {
   "cell_type": "code",
   "execution_count": null,
   "id": "18e26c9d",
   "metadata": {},
   "outputs": [],
   "source": []
  }
 ],
 "metadata": {
  "kernelspec": {
   "display_name": "Python 3 (ipykernel)",
   "language": "python",
   "name": "python3"
  },
  "language_info": {
   "codemirror_mode": {
    "name": "ipython",
    "version": 3
   },
   "file_extension": ".py",
   "mimetype": "text/x-python",
   "name": "python",
   "nbconvert_exporter": "python",
   "pygments_lexer": "ipython3",
   "version": "3.9.12"
  }
 },
 "nbformat": 4,
 "nbformat_minor": 5
}
